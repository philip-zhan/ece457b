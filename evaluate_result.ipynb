{
 "cells": [
  {
   "cell_type": "code",
   "execution_count": 2,
   "metadata": {},
   "outputs": [],
   "source": [
    "import numpy as np\n",
    "import os\n",
    "# import six.moves.urllib as urllib\n",
    "import sys\n",
    "# import tarfile\n",
    "# import tensorflow as tf\n",
    "# import zipfile\n",
    "import pdb\n",
    "# from distutils.version import StrictVersion\n",
    "# from collections import defaultdict\n",
    "# from io import StringIO\n",
    "# from matplotlib import pyplot as plt\n",
    "# from PIL import Image\n",
    "# import tensorflow.contrib.slim as slim\n",
    "\n",
    "# This is needed since the notebook is stored in the object_detection folder.\n",
    "sys.path.append(\"..\")\n",
    "# from object_detection.utils import ops as utils_ops\n",
    "# from utils import label_map_util\n",
    "# from utils import visualization_utils as vis_util\n",
    "\n",
    "# if StrictVersion(tf.__version__) < StrictVersion('1.12.0'):\n",
    "#   raise ImportError('Please upgrade your TensorFlow installation to v1.12.*.')\n",
    "# print(tf.__version__)\n",
    "# This is needed to display the images.\n",
    "%matplotlib inline"
   ]
  },
  {
   "cell_type": "code",
   "execution_count": 9,
   "metadata": {},
   "outputs": [],
   "source": [
    "annotation = {}\n",
    "with open('test_images/train.txt','r') as annotation_file:\n",
    "    for line in annotation_file:\n",
    "        split = line.split(' ')\n",
    "        name = split[0].split('.')[0]\n",
    "        ground_truth = np.zeros((640, 480))\n",
    "        for box in split[1:-1]:\n",
    "            xmin, ymin, xmax, ymax = [int(pix) for pix in box.split(',')[:4]]\n",
    "            ground_truth[xmin:xmax, ymin:ymax] = 1\n",
    "        annotation[name] = ground_truth\n"
   ]
  },
  {
   "cell_type": "code",
   "execution_count": 17,
   "metadata": {},
   "outputs": [
    {
     "name": "stdout",
     "output_type": "stream",
     "text": [
      "set00_V001_94 0.714875971608496\n"
     ]
    }
   ],
   "source": [
    "dir = 'ssd_results/'\n",
    "for filename in os.listdir(dir):\n",
    "    if filename.endswith(\".npy\"): \n",
    "        output_dict = np.load(dir + filename).item()\n",
    "        detection_grid = np.zeros((640, 480))\n",
    "        name = filename.split('.')[0]\n",
    "        for i in range(len(output_dict['detection_boxes'])):\n",
    "            ymin, xmin, ymax, xmax = output_dict['detection_boxes'][i]\n",
    "            xmin = int(xmin * 640)\n",
    "            xmax = int(xmax * 640)\n",
    "            ymin = int(ymin * 480)\n",
    "            ymax = int(ymax * 480)\n",
    "            score = output_dict['detection_scores'][i]\n",
    "            box_grid = detection_grid[xmin:xmax, ymin:ymax]\n",
    "            box_grid[box_grid < score] = score\n",
    "            detection_grid[xmin:xmax, ymin:ymax] = box_grid\n",
    "        # calculate IOU\n",
    "        intersection = detection_grid[annotation[name] == 1].sum()\n",
    "        union =  annotation[name].sum() + detection_grid.sum() - intersection\n",
    "        iou = intersection / union\n",
    "        print(name, iou)\n",
    "        "
   ]
  },
  {
   "cell_type": "code",
   "execution_count": null,
   "metadata": {},
   "outputs": [],
   "source": []
  }
 ],
 "metadata": {
  "kernelspec": {
   "display_name": "Python 3",
   "language": "python",
   "name": "python3"
  },
  "language_info": {
   "codemirror_mode": {
    "name": "ipython",
    "version": 3
   },
   "file_extension": ".py",
   "mimetype": "text/x-python",
   "name": "python",
   "nbconvert_exporter": "python",
   "pygments_lexer": "ipython3",
   "version": "3.5.3"
  }
 },
 "nbformat": 4,
 "nbformat_minor": 2
}
